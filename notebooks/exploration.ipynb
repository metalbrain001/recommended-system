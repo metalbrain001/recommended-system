{
 "cells": [
  {
   "cell_type": "code",
   "execution_count": null,
   "metadata": {},
   "outputs": [],
   "source": [
    "# In notebooks/exploration.ipynb\n",
    "import sys\n",
    "import os\n",
    "\n",
    "sys.path.append(os.path.abspath(\"../src\"))\n",
    "from data_loader import MovieLensDataLoader\n",
    "\n",
    "# Add the src directory to the system path\n",
    "sys.path.append(os.path.abspath(\"../src\"))\n",
    "import matplotlib.pyplot as plt  # type: ignore\n",
    "import pandas as pd  # type: ignore\n",
    "\n",
    "# Path to the MovieLens dataset\n",
    "path_to_files = \"/Users/timeless/Downloads/ml-32m/\"\n",
    "# Create an instance of MovieLensDataLoader\n",
    "loader = MovieLensDataLoader(path=path_to_files)\n",
    "# Load the data\n",
    "movies, ratings, tags, links = loader.load_data()\n",
    "ratings[\"rating\"].hist()\n",
    "plt.title(\"Distribution of Ratings\")\n",
    "plt.show()"
   ]
  },
  {
   "cell_type": "code",
   "execution_count": null,
   "metadata": {},
   "outputs": [],
   "source": [
    "print(\n",
    "    \"The dimension of movies dataframe are:\",\n",
    "    movies.shape,\n",
    "    \"\\nThe dimension of ratings dataframes are:\",\n",
    "    ratings.shape,\n",
    "    \"\\nThe dimension of tags dataframe are:\",\n",
    "    tags.shape,\n",
    "    \"\\nThe dimension of links dataframe are:\",\n",
    "    links.shape,\n",
    ")"
   ]
  },
  {
   "cell_type": "code",
   "execution_count": null,
   "metadata": {},
   "outputs": [],
   "source": [
    "movies.head(10)"
   ]
  },
  {
   "cell_type": "code",
   "execution_count": null,
   "metadata": {},
   "outputs": [],
   "source": [
    "ratings.head(10)"
   ]
  },
  {
   "cell_type": "code",
   "execution_count": null,
   "metadata": {},
   "outputs": [],
   "source": [
    "tags.head(10)"
   ]
  },
  {
   "cell_type": "code",
   "execution_count": 6,
   "metadata": {},
   "outputs": [
    {
     "data": {
      "text/html": [
       "<div>\n",
       "<style scoped>\n",
       "    .dataframe tbody tr th:only-of-type {\n",
       "        vertical-align: middle;\n",
       "    }\n",
       "\n",
       "    .dataframe tbody tr th {\n",
       "        vertical-align: top;\n",
       "    }\n",
       "\n",
       "    .dataframe thead th {\n",
       "        text-align: right;\n",
       "    }\n",
       "</style>\n",
       "<table border=\"1\" class=\"dataframe\">\n",
       "  <thead>\n",
       "    <tr style=\"text-align: right;\">\n",
       "      <th></th>\n",
       "      <th>movieId</th>\n",
       "      <th>imdbId</th>\n",
       "      <th>tmdbId</th>\n",
       "    </tr>\n",
       "  </thead>\n",
       "  <tbody>\n",
       "    <tr>\n",
       "      <th>0</th>\n",
       "      <td>1</td>\n",
       "      <td>114709</td>\n",
       "      <td>862.0</td>\n",
       "    </tr>\n",
       "    <tr>\n",
       "      <th>1</th>\n",
       "      <td>2</td>\n",
       "      <td>113497</td>\n",
       "      <td>8844.0</td>\n",
       "    </tr>\n",
       "    <tr>\n",
       "      <th>2</th>\n",
       "      <td>3</td>\n",
       "      <td>113228</td>\n",
       "      <td>15602.0</td>\n",
       "    </tr>\n",
       "    <tr>\n",
       "      <th>3</th>\n",
       "      <td>4</td>\n",
       "      <td>114885</td>\n",
       "      <td>31357.0</td>\n",
       "    </tr>\n",
       "    <tr>\n",
       "      <th>4</th>\n",
       "      <td>5</td>\n",
       "      <td>113041</td>\n",
       "      <td>11862.0</td>\n",
       "    </tr>\n",
       "  </tbody>\n",
       "</table>\n",
       "</div>"
      ],
      "text/plain": [
       "   movieId  imdbId   tmdbId\n",
       "0        1  114709    862.0\n",
       "1        2  113497   8844.0\n",
       "2        3  113228  15602.0\n",
       "3        4  114885  31357.0\n",
       "4        5  113041  11862.0"
      ]
     },
     "execution_count": 6,
     "metadata": {},
     "output_type": "execute_result"
    }
   ],
   "source": [
    "links.head()"
   ]
  },
  {
   "cell_type": "code",
   "execution_count": null,
   "metadata": {},
   "outputs": [],
   "source": [
    "# Movie ID to movie name mapping\n",
    "movie_names = movies.set_index(\"movieId\")[\"title\"].to_dict()\n",
    "num_users = len(ratings[\"userId\"].unique())\n",
    "num_items = len(ratings[\"movieId\"].unique())\n",
    "print(\"ratings:\", ratings.shape)\n",
    "print(\"movies:\", movies.shape)\n",
    "print(\"tags:\", tags.shape)\n",
    "print(\"links:\", links.shape)\n",
    "print(\"Number of unique users:\", num_users)\n",
    "print(\"Number of unique movies:\", num_items)\n",
    "print(\"The full rating matrix we have:\", num_users * num_items, \"elements\")\n",
    "print(\"The number of ratings we have:\", len(ratings))\n",
    "print(\n",
    "    \"Therefore\",\n",
    "    len(ratings) / (num_users * num_items) * 100,\n",
    "    \"% of the matrix is filled\",\n",
    ")"
   ]
  },
  {
   "cell_type": "code",
   "execution_count": null,
   "metadata": {},
   "outputs": [],
   "source": [
    "print(movies.describe())"
   ]
  },
  {
   "cell_type": "code",
   "execution_count": null,
   "metadata": {},
   "outputs": [],
   "source": [
    "print(ratings.describe())"
   ]
  },
  {
   "cell_type": "code",
   "execution_count": null,
   "metadata": {},
   "outputs": [],
   "source": [
    "print(tags.describe())"
   ]
  },
  {
   "cell_type": "code",
   "execution_count": null,
   "metadata": {},
   "outputs": [],
   "source": [
    "print(links.describe())"
   ]
  },
  {
   "cell_type": "code",
   "execution_count": null,
   "metadata": {},
   "outputs": [],
   "source": [
    "# Find missing values\n",
    "movie_missing_values = movies.isnull().sum()\n",
    "\n",
    "# Find null values\n",
    "movie_null_values = movies[movies.isnull().any(axis=1)]\n",
    "\n",
    "# Print the results\n",
    "print(\"Missing Values:\")\n",
    "print(movie_missing_values)\n",
    "print(\"\\nNull Values:\")\n",
    "print(movie_null_values)"
   ]
  },
  {
   "cell_type": "code",
   "execution_count": null,
   "metadata": {},
   "outputs": [],
   "source": [
    "# Find ratings missing values\n",
    "ratings_missing_values = ratings.isnull().sum()\n",
    "\n",
    "# Find ratings null values\n",
    "ratings_null_values = ratings[ratings.isnull().any(axis=1)]\n",
    "print(\"Missing Values:\", ratings_missing_values)\n",
    "print(\"\\nNull Values:\", ratings_null_values)  # No missing or null values"
   ]
  },
  {
   "cell_type": "code",
   "execution_count": null,
   "metadata": {},
   "outputs": [],
   "source": [
    "ratings[\"userId\"].nunique()  # Number of unique users\n",
    "ratings[\"movieId\"].nunique()  # Number of unique movies\n",
    "ratings[\"rating\"].nunique()  # Number of unique rating values"
   ]
  },
  {
   "cell_type": "code",
   "execution_count": null,
   "metadata": {},
   "outputs": [],
   "source": [
    "movies[\"movieId\"].nunique()  # Number of unique movies\n",
    "movies[\"title\"].nunique()  # Number of unique movie titles\n",
    "movies[\"genres\"].nunique()  # Number of unique genres"
   ]
  },
  {
   "cell_type": "code",
   "execution_count": null,
   "metadata": {},
   "outputs": [],
   "source": [
    "data = pd.merge(ratings, movies, on=\"movieId\")\n",
    "data.head(10)"
   ]
  },
  {
   "cell_type": "code",
   "execution_count": null,
   "metadata": {},
   "outputs": [],
   "source": [
    "ratings[\"rating\"].value_counts()  # Frequency of each rating value"
   ]
  },
  {
   "cell_type": "code",
   "execution_count": null,
   "metadata": {},
   "outputs": [],
   "source": [
    "ratings.groupby(\"userId\")[\"rating\"].mean().head()  # Average rating per user\n",
    "ratings.groupby(\"movieId\")[\"rating\"].mean().head()  # Average rating per movie\n",
    "ratings.groupby(\"movieId\")[\n",
    "    \"rating\"\n",
    "].count().head()  # Number of ratings per movie"
   ]
  },
  {
   "cell_type": "code",
   "execution_count": null,
   "metadata": {},
   "outputs": [],
   "source": [
    "# Create a user-item matrix\n",
    "# We can create this matrix using the pivot_table function in pandas.\n",
    "user_item_matrix = ratings.pivot_table(\n",
    "    index=\"userId\", columns=\"movieId\", values=\"rating\"\n",
    ")"
   ]
  }
 ],
 "metadata": {
  "kernelspec": {
   "display_name": "venv",
   "language": "python",
   "name": "python3"
  },
  "language_info": {
   "codemirror_mode": {
    "name": "ipython",
    "version": 3
   },
   "file_extension": ".py",
   "mimetype": "text/x-python",
   "name": "python",
   "nbconvert_exporter": "python",
   "pygments_lexer": "ipython3",
   "version": "3.12.7"
  }
 },
 "nbformat": 4,
 "nbformat_minor": 2
}
