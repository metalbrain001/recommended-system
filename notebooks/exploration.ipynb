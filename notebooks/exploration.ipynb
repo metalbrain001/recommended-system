{
 "cells": [
  {
   "cell_type": "code",
   "execution_count": null,
   "metadata": {},
   "outputs": [],
   "source": [
    "# In notebooks/exploration.ipynb\n",
    "import sys\n",
    "import os\n",
    "sys.path.append(os.path.abspath('../src'))\n",
    "from data_loader import MovieLensDataLoader\n",
    "# Add the src directory to the system path\n",
    "sys.path.append(os.path.abspath('../src'))\n",
    "import matplotlib.pyplot as plt # type: ignore\n",
    "# Path to the MovieLens dataset\n",
    "path_to_files = '/Users/timeless/Downloads/ml-32m/'\n",
    "# Create an instance of MovieLensDataLoader\n",
    "loader = MovieLensDataLoader(path=path_to_files)\n",
    "# Load the data\n",
    "movies, ratings, tags, links = loader.load_data()\n",
    "ratings['rating'].hist()\n",
    "plt.title('Distribution of Ratings')\n",
    "plt.show()\n"
   ]
  },
  {
   "cell_type": "code",
   "execution_count": null,
   "metadata": {},
   "outputs": [],
   "source": [
    "print('The dimension of movies dataframe are:', movies.shape, '\\nThe dimension of ratings dataframes are:', ratings.shape)"
   ]
  },
  {
   "cell_type": "code",
   "execution_count": null,
   "metadata": {},
   "outputs": [],
   "source": [
    "movies.head()"
   ]
  },
  {
   "cell_type": "code",
   "execution_count": null,
   "metadata": {},
   "outputs": [],
   "source": [
    "ratings.head()"
   ]
  },
  {
   "cell_type": "code",
   "execution_count": 17,
   "metadata": {},
   "outputs": [
    {
     "name": "stdout",
     "output_type": "stream",
     "text": [
      "Number of unique users: 200948\n",
      "Number of unique movies: 84432\n",
      "The full rating matrix we have: 16966441536 elements\n",
      "The number of ratings we have: 32000204\n",
      "Therefore 0.18860881306254365 % of the matrix is filled\n"
     ]
    }
   ],
   "source": [
    "# Movie ID to movie name mapping\n",
    "movie_names = movies.set_index('movieId')['title'].to_dict()\n",
    "num_users = len(ratings['userId'].unique())\n",
    "num_items = len(ratings['movieId'].unique())\n",
    "print('Number of unique users:', num_users)\n",
    "print('Number of unique movies:', num_items)\n",
    "print('The full rating matrix we have:', num_users*num_items, 'elements')\n",
    "print('The number of ratings we have:', len(ratings))\n",
    "print('Therefore', len(ratings)/(num_users*num_items)*100, '% of the matrix is filled')"
   ]
  }
 ],
 "metadata": {
  "kernelspec": {
   "display_name": "venv",
   "language": "python",
   "name": "python3"
  },
  "language_info": {
   "codemirror_mode": {
    "name": "ipython",
    "version": 3
   },
   "file_extension": ".py",
   "mimetype": "text/x-python",
   "name": "python",
   "nbconvert_exporter": "python",
   "pygments_lexer": "ipython3",
   "version": "3.12.7"
  }
 },
 "nbformat": 4,
 "nbformat_minor": 2
}
